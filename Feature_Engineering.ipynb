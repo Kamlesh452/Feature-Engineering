{
  "nbformat": 4,
  "nbformat_minor": 0,
  "metadata": {
    "colab": {
      "provenance": []
    },
    "kernelspec": {
      "name": "python3",
      "display_name": "Python 3"
    },
    "language_info": {
      "name": "python"
    }
  },
  "cells": [
    {
      "cell_type": "markdown",
      "source": [
        "1. What is a parameter?\n",
        "   >>>A parameter is a variable used to pass information into a function, method, or system. Parameters define what inputs a function or process can accept and influence its behavior."
      ],
      "metadata": {
        "id": "fnCBmzRmeJ0K"
      }
    },
    {
      "cell_type": "markdown",
      "source": [
        "2. What is correlation?\n",
        "What does negative correlation mean?\n",
        "   >>>Correlation is a statistical measure that describes the relationship between two variables. It indicates how changes in one variable are associated with changes in another. The correlation coefficient ranges from -1 to 1:\n",
        "\n",
        "+1 → Perfect positive correlation (both variables move in the same direction).\n",
        "0 → No correlation (no relationship between the variables).\n",
        "-1 → Perfect negative correlation (one variable increases while the other decreases)."
      ],
      "metadata": {
        "id": "eh9Qy16Kecjf"
      }
    },
    {
      "cell_type": "markdown",
      "source": [
        "3. Define Machine Learning. What are the main components in Machine Learning?\n",
        "   >>>Machine Learning (ML) is a branch of artificial intelligence (AI) that enables computers to learn from data and make predictions or decisions without being explicitly programmed. It uses algorithms and statistical models to identify patterns and improve performance over time."
      ],
      "metadata": {
        "id": "eXwZOGLOe2Zk"
      }
    },
    {
      "cell_type": "markdown",
      "source": [
        "4. How does loss value help in determining whether the model is good or not?\n",
        "   >>>The loss value is a key metric in machine learning that measures how far the model's predictions are from the actual values. It quantifies the model's errors, helping to assess its performance."
      ],
      "metadata": {
        "id": "xhj-ByRDfFxk"
      }
    },
    {
      "cell_type": "markdown",
      "source": [
        "5. What are continuous and categorical variables?\n",
        "   >>>In statistics and machine learning, variables are classified into continuous and categorical types based on the type of values they represent."
      ],
      "metadata": {
        "id": "GaoOJtnRfR7_"
      }
    },
    {
      "cell_type": "markdown",
      "source": [
        "6. How do we handle categorical variables in Machine Learning? What are the common techniques?\n",
        "   >>>Categorical variables need to be converted into a numerical format before being used in machine learning models. Below are some common techniques to handle categorical data."
      ],
      "metadata": {
        "id": "RYk9bGwmfi6h"
      }
    },
    {
      "cell_type": "markdown",
      "source": [
        "7. What do you mean by training and testing a dataset?\n",
        "   >>>In machine learning, a dataset is typically divided into two (or sometimes three) parts: training set, testing set, and validation set. This helps evaluate the model’s performance on unseen data."
      ],
      "metadata": {
        "id": "eSm9dEZof54-"
      }
    },
    {
      "cell_type": "markdown",
      "source": [
        "8. What is sklearn.preprocessing?\n",
        "   >>>sklearn.preprocessing is a module in Scikit-Learn that provides tools for feature scaling, transformation, and encoding to prepare data for machine learning models."
      ],
      "metadata": {
        "id": "BdP_zDJ5gH5M"
      }
    },
    {
      "cell_type": "markdown",
      "source": [
        "9. What is a Test set?\n",
        "   >>>A test set is a portion of a dataset that is not used during training and is instead used to evaluate a trained machine learning model. It helps measure how well the model generalizes to unseen data."
      ],
      "metadata": {
        "id": "I1JlQyQ9gk2n"
      }
    },
    {
      "cell_type": "markdown",
      "source": [
        "10. How do we split data for model fitting (training and testing) in Python?\n",
        "How do you approach a Machine Learning problem?\n",
        "   >>>In machine learning, we split data into training and testing sets to evaluate model performance. This ensures the model generalizes well to unseen data.\n",
        "   "
      ],
      "metadata": {
        "id": "jr37yy7kg1AI"
      }
    },
    {
      "cell_type": "markdown",
      "source": [
        "11. Why do we have to perform EDA before fitting a model to the data?\n",
        "    >>>Exploratory Data Analysis (EDA) is a crucial step before fitting a model to the data because it helps ensure that the data is clean, well-understood, and suitable for modeling. Here are some key reasons why EDA is essential:\n",
        "    \n",
        "    1. Understanding the Data Structure\n",
        "    2. Detecting Missing Values\n",
        "    3. Identifying Outliers\n",
        "    4. Feature Relationships and Correlations\n",
        "    5. Checking Data Distribution\n",
        "    6. Spotting Data Imbalance\n",
        "    7. Choosing the Right Model\n",
        "    8. Feature Engineering & Selection\n",
        "    9. Ensuring Data Quality\n",
        "    10. Avoiding Garbage In, Garbage Out (GIGO)"
      ],
      "metadata": {
        "id": "hmqZ5u9YCE9p"
      }
    },
    {
      "cell_type": "markdown",
      "source": [
        "12. What is correlation?\n",
        "    >>>Correlation is a statistical measure that describes the strength and direction of the relationship between two variables. It helps determine how changes in one variable are associated with changes in another."
      ],
      "metadata": {
        "id": "-HTFU11pDVBc"
      }
    },
    {
      "cell_type": "markdown",
      "source": [
        "13. What does negative correlation mean?\n",
        "    >>>A negative correlation means that as one variable increases, the other variable decreases. In other words, they move in opposite directions."
      ],
      "metadata": {
        "id": "mNoSpJ0HDl4y"
      }
    },
    {
      "cell_type": "markdown",
      "source": [
        "14. How can you find correlation between variables in Python?\n",
        "    >>>In Python, you can calculate the correlation between variables using Pandas and NumPy."
      ],
      "metadata": {
        "id": "oTsuFbPUDx49"
      }
    },
    {
      "cell_type": "markdown",
      "source": [
        "15. What is causation? Explain difference between correlation and causation with an example?\n",
        "    >>>What is Causation?\n",
        "      Causation (also called cause-and-effect) means that one event directly causes another. If variable A changes, it directly impacts variable B.\n",
        "\n",
        "🔹 Example of Causation:\n",
        "\n",
        "  Eating more calories causes weight gain.\n",
        "\n",
        "  Smoking causes an increased risk of lung cancer.\n",
        "\n",
        "  In these cases, one action directly leads to an outcome."
      ],
      "metadata": {
        "id": "AfK1MWb-EOFe"
      }
    },
    {
      "cell_type": "markdown",
      "source": [
        "16. What is an Optimizer? What are different types of optimizers? Explain each with an example?\n",
        "   >>>An optimizer is an algorithm that adjusts the model’s parameters (weights & biases) to minimize the loss function and improve accuracy during training.\n",
        "\n",
        "In simple terms, an optimizer helps the model learn efficiently by updating weights in the right direction to reduce errors."
      ],
      "metadata": {
        "id": "kd2zfZH5EwmR"
      }
    },
    {
      "cell_type": "markdown",
      "source": [
        "17. What is sklearn.linear_model ?\n",
        "    >>>sklearn.linear_model is a module in Scikit-Learn that provides various linear models for regression and classification tasks. These models are based on the assumption that the relationship between input features (X) and the target variable (y) can be represented as a linear function.\n",
        "\n"
      ],
      "metadata": {
        "id": "n0FOPXPaFJe4"
      }
    },
    {
      "cell_type": "markdown",
      "source": [
        "18. What does model.fit() do? What arguments must be given?\n",
        "    >>>The .fit() method in Scikit-Learn is used to train (fit) a model to the data. It adjusts the model’s internal parameters (like weights and biases) based on the provided training dataset."
      ],
      "metadata": {
        "id": "id--q4lkFaa5"
      }
    },
    {
      "cell_type": "markdown",
      "source": [
        "19. What does model.predict() do? What arguments must be given?\n",
        "    >>>The .fit() method in Scikit-Learn is used to train (fit) a model to the data. It adjusts the model’s internal parameters (like weights and biases) based on the provided training dataset."
      ],
      "metadata": {
        "id": "wtY13oqSFrZu"
      }
    },
    {
      "cell_type": "markdown",
      "source": [
        "20. What are continuous and categorical variables?\n",
        "    >>>In statistics and machine learning, variables are classified into continuous and categorical based on the type of values they can take.\n",
        "\n",
        "    1. Continuous Variables:\n",
        "    A continuous variable is a variable that can take infinite values within a given range. These values are measurable and often involve decimals.\n",
        "    2. Categorical Variables:\n",
        "    A categorical variable represents groups or categories that have no numerical meaning. These values are qualitative and are often labels or names"
      ],
      "metadata": {
        "id": "Nx9O_Kp9Gms-"
      }
    }
  ]
}